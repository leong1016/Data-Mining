{
 "cells": [
  {
   "cell_type": "code",
   "execution_count": null,
   "metadata": {
    "collapsed": true
   },
   "outputs": [],
   "source": [
    "import pandas as pd"
   ]
  },
  {
   "cell_type": "code",
   "execution_count": null,
   "metadata": {
    "collapsed": true
   },
   "outputs": [],
   "source": [
    "d = []\n",
    "for i in range(1,5):\n",
    "    with open('D'+str(i)+'.txt', 'r') as file:\n",
    "        d.append(file.read())"
   ]
  },
  {
   "cell_type": "code",
   "execution_count": null,
   "metadata": {
    "collapsed": true
   },
   "outputs": [],
   "source": [
    "char2gram = []\n",
    "char2gram_size = []\n",
    "for k in range(4):\n",
    "    temp = set()\n",
    "    for i in range(len(d[k])-1):\n",
    "        temp.add(d[k][i:i+2])\n",
    "    char2gram.append(temp)\n",
    "    char2gram_size.append(len(temp))"
   ]
  },
  {
   "cell_type": "code",
   "execution_count": null,
   "metadata": {
    "collapsed": true
   },
   "outputs": [],
   "source": [
    "char2gram_size"
   ]
  },
  {
   "cell_type": "code",
   "execution_count": null,
   "metadata": {
    "collapsed": true
   },
   "outputs": [],
   "source": [
    "char3gram = []\n",
    "char3gram_size = []\n",
    "for k in range(4):\n",
    "    temp = set()\n",
    "    for i in range(len(d[k])-2):\n",
    "        temp.add(d[k][i:i+3])\n",
    "    char3gram.append(temp)\n",
    "    char3gram_size.append(len(temp))"
   ]
  },
  {
   "cell_type": "code",
   "execution_count": null,
   "metadata": {
    "collapsed": true
   },
   "outputs": [],
   "source": [
    "char3gram_size"
   ]
  },
  {
   "cell_type": "code",
   "execution_count": null,
   "metadata": {
    "collapsed": true
   },
   "outputs": [],
   "source": [
    "word2gram = []\n",
    "word2gram_size = []\n",
    "for k in range(4):\n",
    "    words = d[k].split()\n",
    "    temp = set()\n",
    "    for i in range(len(words)-1):\n",
    "        temp.add(' '.join(words[i:i+2]))\n",
    "    word2gram.append(temp)\n",
    "    word2gram_size.append(len(temp))"
   ]
  },
  {
   "cell_type": "code",
   "execution_count": null,
   "metadata": {
    "collapsed": true
   },
   "outputs": [],
   "source": [
    "word2gram_size"
   ]
  },
  {
   "cell_type": "code",
   "execution_count": null,
   "metadata": {
    "collapsed": true
   },
   "outputs": [],
   "source": [
    "def jaccard(set1, set2):\n",
    "    return len(set1 & set2) / len(set1 | set2)"
   ]
  },
  {
   "cell_type": "code",
   "execution_count": null,
   "metadata": {
    "collapsed": true
   },
   "outputs": [],
   "source": [
    "for i in range(0,4):\n",
    "    for j in range(i+1, 4):\n",
    "        js1 = jaccard(char2gram[i], char2gram[j])\n",
    "        js2 = jaccard(char3gram[i], char3gram[j])\n",
    "        js3 = jaccard(word2gram[i], word2gram[j])\n",
    "        print('JS({0:d},{1:d}) & {2:.3f} & {3:.3f} & {4:.3f} \\\\\\\\'.format(i+1, j+1, js1, js2, js3))"
   ]
  },
  {
   "cell_type": "code",
   "execution_count": null,
   "metadata": {
    "collapsed": true
   },
   "outputs": [],
   "source": [
    "import random\n",
    "import string\n",
    "import hashlib\n",
    "import numpy as np\n",
    "import time"
   ]
  },
  {
   "cell_type": "code",
   "execution_count": null,
   "metadata": {
    "collapsed": true
   },
   "outputs": [],
   "source": [
    "t = [20, 60, 150, 300, 600]\n",
    "k = t[0]"
   ]
  },
  {
   "cell_type": "code",
   "execution_count": null,
   "metadata": {
    "collapsed": true
   },
   "outputs": [],
   "source": [
    "def randomsalt(k):\n",
    "    salt = []\n",
    "    for i in range(k):\n",
    "        salt.append(''.join(random.choices(string.ascii_letters, k=10)))\n",
    "    return salt"
   ]
  },
  {
   "cell_type": "code",
   "execution_count": null,
   "metadata": {
    "collapsed": true
   },
   "outputs": [],
   "source": [
    "def inf2darray(k):\n",
    "    v = []\n",
    "    v.append([float('inf')] * k)\n",
    "    v.append([float('inf')] * k)\n",
    "    v.append([float('inf')] * k)\n",
    "    v.append([float('inf')] * k)\n",
    "    return np.array(v)"
   ]
  },
  {
   "cell_type": "code",
   "execution_count": null,
   "metadata": {
    "collapsed": true
   },
   "outputs": [],
   "source": [
    "def jaccard_similarity(s1, s2):\n",
    "    return sum(s1 == s2) / len(s1)"
   ]
  },
  {
   "cell_type": "code",
   "execution_count": null,
   "metadata": {
    "collapsed": true
   },
   "outputs": [],
   "source": [
    "actual_js = jaccard(char3gram[0], char3gram[1])"
   ]
  },
  {
   "cell_type": "code",
   "execution_count": null,
   "metadata": {
    "collapsed": true
   },
   "outputs": [],
   "source": [
    "result = {}\n",
    "error = {}\n",
    "runtime = {}\n",
    "for k in t:\n",
    "    sum_result = 0\n",
    "    sum_error = 0\n",
    "    sum_time= 0\n",
    "    for n in range(20):\n",
    "        start = time.time()\n",
    "        salt = randomsalt(k)\n",
    "        v = inf2darray(k)\n",
    "        for d in range(2):\n",
    "            for i in char3gram[d]:\n",
    "                for j in range(k):\n",
    "                    hashstr = hashlib.sha1((i+salt[j]).encode('utf-8')).hexdigest()\n",
    "                    hashint = int(hashstr, 16) % 10000\n",
    "                    if (hashint < v[d][j]):\n",
    "                        v[d][j] = hashint\n",
    "        pred_js = jaccard_similarity(v[0], v[1])\n",
    "        sum_time += time.time() - start\n",
    "        sum_result += pred_js\n",
    "        sum_error += abs(actual_js - pred_js)\n",
    "    result[k] = sum_result / 20\n",
    "    error[k] = sum_error / 20\n",
    "    runtime[k] = sum_time / 20"
   ]
  },
  {
   "cell_type": "code",
   "execution_count": null,
   "metadata": {
    "collapsed": true
   },
   "outputs": [],
   "source": [
    "result"
   ]
  },
  {
   "cell_type": "code",
   "execution_count": null,
   "metadata": {
    "collapsed": true
   },
   "outputs": [],
   "source": [
    "error"
   ]
  },
  {
   "cell_type": "code",
   "execution_count": null,
   "metadata": {
    "collapsed": true
   },
   "outputs": [],
   "source": [
    "runtime"
   ]
  },
  {
   "cell_type": "code",
   "execution_count": null,
   "metadata": {
    "collapsed": true
   },
   "outputs": [],
   "source": [
    "for key, value in result.items():\n",
    "    print('{0:d} & {1:.5f} \\\\\\\\'.format(key, value))"
   ]
  },
  {
   "cell_type": "code",
   "execution_count": null,
   "metadata": {
    "collapsed": true
   },
   "outputs": [],
   "source": [
    "for tt in t:\n",
    "    print('{0:d} & {1:.5f} & {2:.5f} & {3:.5f} & {4:.5f} \\\\\\\\'.format(tt, actual_js, result[tt], error[tt], runtime[tt]))"
   ]
  },
  {
   "cell_type": "code",
   "execution_count": 1,
   "metadata": {
    "collapsed": true
   },
   "outputs": [],
   "source": [
    "from matplotlib import pyplot as plt"
   ]
  },
  {
   "cell_type": "code",
   "execution_count": null,
   "metadata": {
    "collapsed": true
   },
   "outputs": [],
   "source": [
    "plt.plot(runtime.values(), error.values(), 'o-')\n",
    "plt.xlabel('Run Time')\n",
    "plt.ylabel('Error')\n",
    "plt.show()"
   ]
  },
  {
   "cell_type": "code",
   "execution_count": 2,
   "metadata": {
    "collapsed": true
   },
   "outputs": [],
   "source": [
    "import math\n",
    "import numpy as np"
   ]
  },
  {
   "cell_type": "code",
   "execution_count": 3,
   "metadata": {
    "collapsed": true
   },
   "outputs": [],
   "source": [
    "def lsh(s, b, r):\n",
    "    return 1 - (1 - s**b)**r"
   ]
  },
  {
   "cell_type": "code",
   "execution_count": 15,
   "metadata": {
    "collapsed": true
   },
   "outputs": [],
   "source": [
    "x = np.arange(0, 1, 0.001)"
   ]
  },
  {
   "cell_type": "code",
   "execution_count": 61,
   "metadata": {},
   "outputs": [
    {
     "data": {
      "image/png": "[encoded data removed]",
      "text/plain": [
       "<matplotlib.figure.Figure at 0x1141f9e10>"
      ]
     },
     "metadata": {},
     "output_type": "display_data"
    }
   ],
   "source": [
    "plt.figure(figsize=(8, 6))\n",
    "plt.plot(x, lsh(x, 16, 10))\n",
    "plt.plot(x, lsh(x, 15, 10))\n",
    "plt.plot(x, lsh(x, 14, 11))\n",
    "plt.plot(x, lsh(x, 13, 12))\n",
    "plt.plot(x, lsh(x, 12, 13))\n",
    "plt.plot(x, lsh(x, 11, 14))\n",
    "plt.plot(x, lsh(x, 10, 16))\n",
    "plt.plot(x, lsh(x, 9, 17))\n",
    "plt.plot(x, lsh(x, 8, 20))\n",
    "plt.axvline(x=0.7, linewidth=1, color='r')\n",
    "plt.axhline(y=0.5, linewidth=1, color='r')\n",
    "plt.legend(labels=['b=16, r=10',\n",
    "                   'b=15, r=10',\n",
    "                   'b=14, r=11',\n",
    "                   'b=13, r=12',\n",
    "                   'b=12, r=13',\n",
    "                   'b=11, r=14',\n",
    "                   'b=10, r=16',\n",
    "                   'b=9, r=17',\n",
    "                   'b=8, r=20'])\n",
    "plt.xlabel(r'$s$')\n",
    "plt.ylabel(r'$f(s)$')\n",
    "plt.show()"
   ]
  },
  {
   "cell_type": "code",
   "execution_count": 68,
   "metadata": {
    "collapsed": true
   },
   "outputs": [],
   "source": [
    "b = 9\n",
    "r = 17"
   ]
  },
  {
   "cell_type": "code",
   "execution_count": 69,
   "metadata": {
    "collapsed": true
   },
   "outputs": [],
   "source": [
    "js = np.array([0.978, 0.580, 0.305, 0.568, 0.306, 0.312])"
   ]
  },
  {
   "cell_type": "code",
   "execution_count": 70,
   "metadata": {},
   "outputs": [
    {
     "name": "stdout",
     "output_type": "stream",
     "text": [
      "0.97800 & 1.00000\n",
      "0.58000 & 0.11904\n",
      "0.30500 & 0.00039\n",
      "0.56800 & 0.09962\n",
      "0.30600 & 0.00040\n",
      "0.31200 & 0.00048\n"
     ]
    }
   ],
   "source": [
    "for s in js:\n",
    "    fx = (1 - (1 - s ** b)**r)\n",
    "    print('{0:.5f} & {1:.5f}'.format(s, fx))"
   ]
  },
  {
   "cell_type": "code",
   "execution_count": null,
   "metadata": {
    "collapsed": true
   },
   "outputs": [],
   "source": []
  }
 ],
 "metadata": {
  "kernelspec": {
   "display_name": "Python 3",
   "language": "python",
   "name": "python3"
  },
  "language_info": {
   "codemirror_mode": {
    "name": "ipython",
    "version": 3
   },
   "file_extension": ".py",
   "mimetype": "text/x-python",
   "name": "python",
   "nbconvert_exporter": "python",
   "pygments_lexer": "ipython3",
   "version": "3.6.3"
  }
 },
 "nbformat": 4,
 "nbformat_minor": 2
}
