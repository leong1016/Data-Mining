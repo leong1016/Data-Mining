{
 "cells": [
  {
   "cell_type": "code",
   "execution_count": null,
   "metadata": {
    "collapsed": true
   },
   "outputs": [],
   "source": [
    "import pandas as pd\n",
    "import numpy as np\n",
    "from matplotlib import pyplot as plt"
   ]
  },
  {
   "cell_type": "code",
   "execution_count": null,
   "metadata": {},
   "outputs": [],
   "source": [
    "c2df = pd.read_csv('C2.txt', sep='\\t', header=None, index_col=0)\n",
    "c2df.head()"
   ]
  },
  {
   "cell_type": "code",
   "execution_count": null,
   "metadata": {
    "collapsed": true
   },
   "outputs": [],
   "source": [
    "def dist(x, y):\n",
    "    return np.linalg.norm(x - y)"
   ]
  },
  {
   "cell_type": "code",
   "execution_count": null,
   "metadata": {
    "collapsed": true
   },
   "outputs": [],
   "source": [
    "def gonzalez(x, k):\n",
    "    n = x.shape[0]\n",
    "    c = []\n",
    "    c.append(x[0])\n",
    "    fi = [0] * n\n",
    "    \n",
    "    for i in range(1, k):\n",
    "        maxDist = 0\n",
    "        c.append(x[0])\n",
    "        for j in range(n):\n",
    "            currDist = dist(x[j], c[fi[j]])\n",
    "            if (currDist > maxDist):\n",
    "                maxDist = currDist\n",
    "                c[i] = x[j]\n",
    "        for j in range(n):\n",
    "            if (dist(x[j], c[fi[j]]) > dist(x[j], c[i])):\n",
    "                fi[j] = i\n",
    "    return c, fi"
   ]
  },
  {
   "cell_type": "code",
   "execution_count": null,
   "metadata": {
    "collapsed": true
   },
   "outputs": [],
   "source": [
    "def center_cost(x, c, fi):\n",
    "    n = x.shape[0]\n",
    "    \n",
    "    maxDist = 0\n",
    "    maxI = -1\n",
    "    maxJ = -1\n",
    "    for i in set(fi):\n",
    "        center = c[i]\n",
    "        for j in range(n):\n",
    "            if (fi[j] != i):\n",
    "                break\n",
    "            currDist = dist(center, x[j])\n",
    "            if (currDist > maxDist):\n",
    "                maxDist = currDist\n",
    "                maxI = i\n",
    "                maxJ = j\n",
    "    return maxDist"
   ]
  },
  {
   "cell_type": "code",
   "execution_count": null,
   "metadata": {
    "collapsed": true
   },
   "outputs": [],
   "source": [
    "def mean_cost(x, c, fi):\n",
    "    n = x.shape[0]\n",
    "    lst = []\n",
    "    for i in range(n):\n",
    "        lst.append(x[i] - c[fi[i]])\n",
    "    mat = np.array(lst)\n",
    "    return np.linalg.norm(mat) / n ** (1/2)"
   ]
  },
  {
   "cell_type": "code",
   "execution_count": null,
   "metadata": {
    "collapsed": true
   },
   "outputs": [],
   "source": [
    "def mean_cost2(x, c, fi):\n",
    "    n = x.shape[0]\n",
    "    ssd = 0\n",
    "    for i in range(n):\n",
    "        ssd += dist(x[i], c[fi[i]]) ** 2\n",
    "    return (ssd / n)**(1/2)"
   ]
  },
  {
   "cell_type": "code",
   "execution_count": null,
   "metadata": {
    "collapsed": true
   },
   "outputs": [],
   "source": [
    "c2 = c2df.as_matrix()\n",
    "c_gonzalez, fi_gonzalez = gonzalez(c2, 3)"
   ]
  },
  {
   "cell_type": "code",
   "execution_count": null,
   "metadata": {
    "collapsed": true
   },
   "outputs": [],
   "source": [
    "result_gonzalez = c2df.copy()\n",
    "result_gonzalez['cluster'] = np.array(fi_gonzalez)"
   ]
  },
  {
   "cell_type": "code",
   "execution_count": null,
   "metadata": {},
   "outputs": [],
   "source": [
    "for i in set(fi_gonzalez):\n",
    "    cluster = result_gonzalez[result_gonzalez['cluster'] == i]\n",
    "    plt.scatter(cluster.iloc[:,0], cluster.iloc[:,1])\n",
    "plt.scatter(x=np.array(c_gonzalez)[:,0], y=np.array(c_gonzalez)[:,1], marker='x', c='black')\n",
    "plt.xlabel('x')\n",
    "plt.ylabel('y')\n",
    "plt.show()"
   ]
  },
  {
   "cell_type": "code",
   "execution_count": null,
   "metadata": {},
   "outputs": [],
   "source": [
    "center_cost(c2, c_gonzalez, fi_gonzalez)"
   ]
  },
  {
   "cell_type": "code",
   "execution_count": null,
   "metadata": {},
   "outputs": [],
   "source": [
    "mean_cost(c2, c_gonzalez, fi_gonzalez)"
   ]
  },
  {
   "cell_type": "code",
   "execution_count": null,
   "metadata": {},
   "outputs": [],
   "source": [
    "mean_cost2(c2, c_gonzalez, fi_gonzalez)"
   ]
  },
  {
   "cell_type": "code",
   "execution_count": null,
   "metadata": {
    "collapsed": true
   },
   "outputs": [],
   "source": [
    "def kmeanspp(x, k):\n",
    "    n = x.shape[0]\n",
    "    c = []\n",
    "    c.append(x[np.random.randint(0,n)])\n",
    "    fi = [0] * n\n",
    "    for i in range(1, k):\n",
    "        lst = []\n",
    "        for j in range(n):\n",
    "            lst.append(dist(x[j], c[fi[j]]) ** 2)\n",
    "        arr = np.array(lst)\n",
    "        prob = arr / arr.sum()\n",
    "        idx = np.random.choice(np.arange(n), p=prob)\n",
    "        c.append(x[idx])\n",
    "        for j in range(n):\n",
    "            if (dist(x[j], c[fi[j]]) > dist(x[j], c[i])):\n",
    "                fi[j] = i\n",
    "    return c, fi"
   ]
  },
  {
   "cell_type": "code",
   "execution_count": null,
   "metadata": {
    "collapsed": true
   },
   "outputs": [],
   "source": [
    "c_kmeanspp, fi_kmeanspp = kmeanspp(c2, 3)"
   ]
  },
  {
   "cell_type": "code",
   "execution_count": null,
   "metadata": {
    "collapsed": true
   },
   "outputs": [],
   "source": [
    "while True:\n",
    "    c_kmeanspp, fi_kmeanspp = kmeanspp(c2, 3)\n",
    "    cost = mean_cost(c2, c_kmeanspp, fi_kmeanspp)\n",
    "    if (cost < 3):\n",
    "        break"
   ]
  },
  {
   "cell_type": "code",
   "execution_count": null,
   "metadata": {
    "collapsed": true
   },
   "outputs": [],
   "source": [
    "result_kmeanspp = c2df.copy()\n",
    "result_kmeanspp['cluster'] = np.array(fi_kmeanspp)"
   ]
  },
  {
   "cell_type": "code",
   "execution_count": null,
   "metadata": {},
   "outputs": [],
   "source": [
    "for i in set(fi_kmeanspp):\n",
    "    cluster = result_kmeanspp[result_kmeanspp['cluster'] == i]\n",
    "    plt.scatter(cluster.iloc[:,0], cluster.iloc[:,1])\n",
    "plt.scatter(x=np.array(c_kmeanspp)[:,0], y=np.array(c_kmeanspp)[:,1], marker='x', c='black')\n",
    "plt.xlabel('x')\n",
    "plt.ylabel('y')\n",
    "plt.show()"
   ]
  },
  {
   "cell_type": "code",
   "execution_count": null,
   "metadata": {
    "collapsed": true
   },
   "outputs": [],
   "source": [
    "kmpp_c = []\n",
    "kmpp_fi = []\n",
    "kmpp_cost = []\n",
    "for i in range(500):\n",
    "    c_kmeanspp, fi_kmeanspp = kmeanspp(c2, 3)\n",
    "    kmpp_c.append(c_kmeanspp)\n",
    "    kmpp_fi.append(fi_kmeanspp)\n",
    "    kmpp_cost.append(mean_cost(c2, c_kmeanspp, fi_kmeanspp))"
   ]
  },
  {
   "cell_type": "code",
   "execution_count": null,
   "metadata": {
    "collapsed": true
   },
   "outputs": [],
   "source": [
    "a = plt.hist(kmpp_cost, cumulative=True, bins=100, normed=1)"
   ]
  },
  {
   "cell_type": "code",
   "execution_count": null,
   "metadata": {},
   "outputs": [],
   "source": [
    "x = a[1]\n",
    "y = np.concatenate((np.array([0]), a[0]))\n",
    "plt.plot(x, y)\n",
    "plt.xlabel('3-means cost')\n",
    "plt.ylabel('CDF')\n",
    "plt.show()"
   ]
  },
  {
   "cell_type": "code",
   "execution_count": null,
   "metadata": {
    "collapsed": true
   },
   "outputs": [],
   "source": [
    "def find_center(c, p):\n",
    "    minDist = np.inf\n",
    "    minIdx = -1\n",
    "    for i in range(len(c)):\n",
    "        currDist = dist(c[i], p)\n",
    "        if (currDist < minDist):\n",
    "            minDist = currDist\n",
    "            minIdx = i\n",
    "    return minIdx"
   ]
  },
  {
   "cell_type": "code",
   "execution_count": null,
   "metadata": {
    "collapsed": true
   },
   "outputs": [],
   "source": [
    "def kmeans(x, k, c=[]):\n",
    "    n = x.shape[0]\n",
    "    \n",
    "    if (len(c) == 0):\n",
    "        for i in range(k):\n",
    "            c.append(x[i])\n",
    "    fi = [-1] * n\n",
    "    \n",
    "    while True:\n",
    "        for i in range(n):\n",
    "            fi[i] = find_center(c, x[i])\n",
    "        newc = []\n",
    "        for j in range(k):\n",
    "            idxs = [idx for idx in range(n) if fi[idx] == j]\n",
    "            newc.append(x[idxs].mean(axis=0))\n",
    "        if (np.array_equal(np.array(newc), np.array(c))):\n",
    "            break\n",
    "        else:\n",
    "            c = newc\n",
    "    \n",
    "    return c, fi"
   ]
  },
  {
   "cell_type": "code",
   "execution_count": null,
   "metadata": {
    "collapsed": true
   },
   "outputs": [],
   "source": [
    "c_kmeans1, fi_kmeans1 = kmeans(c2, 3)"
   ]
  },
  {
   "cell_type": "code",
   "execution_count": null,
   "metadata": {
    "collapsed": true
   },
   "outputs": [],
   "source": [
    "result_kmeans1 = c2df.copy()\n",
    "result_kmeans1['cluster'] = np.array(fi_kmeans1)"
   ]
  },
  {
   "cell_type": "code",
   "execution_count": null,
   "metadata": {},
   "outputs": [],
   "source": [
    "for i in set(fi_kmeans1):\n",
    "    cluster = result_kmeans1[result_kmeans1['cluster'] == i]\n",
    "    plt.scatter(cluster.iloc[:,0], cluster.iloc[:,1])\n",
    "plt.scatter(x=np.array(c_kmeans1)[:,0], y=np.array(c_kmeans1)[:,1], marker='x', c='black')\n",
    "plt.xlabel('x')\n",
    "plt.ylabel('y')\n",
    "plt.show()"
   ]
  },
  {
   "cell_type": "code",
   "execution_count": null,
   "metadata": {},
   "outputs": [],
   "source": [
    "mean_cost(c2, c_kmeans1, fi_kmeans1)"
   ]
  },
  {
   "cell_type": "code",
   "execution_count": null,
   "metadata": {
    "collapsed": true
   },
   "outputs": [],
   "source": [
    "c_kmeans2, fi_kmeans2 = kmeans(c2, 3, c_gonzalez)"
   ]
  },
  {
   "cell_type": "code",
   "execution_count": null,
   "metadata": {
    "collapsed": true
   },
   "outputs": [],
   "source": [
    "result_kmeans2 = c2df.copy()\n",
    "result_kmeans2['cluster'] = np.array(fi_kmeans2)"
   ]
  },
  {
   "cell_type": "code",
   "execution_count": null,
   "metadata": {},
   "outputs": [],
   "source": [
    "for i in set(fi_kmeans2):\n",
    "    cluster = result_kmeans2[result_kmeans2['cluster'] == i]\n",
    "    plt.scatter(cluster.iloc[:,0], cluster.iloc[:,1])\n",
    "plt.scatter(x=np.array(c_kmeans2)[:,0], y=np.array(c_kmeans2)[:,1], marker='x', c='black')\n",
    "plt.xlabel('x')\n",
    "plt.ylabel('y')\n",
    "plt.show()"
   ]
  },
  {
   "cell_type": "code",
   "execution_count": null,
   "metadata": {},
   "outputs": [],
   "source": [
    "mean_cost(c2, c_kmeans2, fi_kmeans2)"
   ]
  },
  {
   "cell_type": "code",
   "execution_count": null,
   "metadata": {
    "collapsed": true
   },
   "outputs": [],
   "source": [
    "c_kmeans3, fi_kmeans3 = kmeans(c2, 3, c_kmeanspp)"
   ]
  },
  {
   "cell_type": "code",
   "execution_count": null,
   "metadata": {
    "collapsed": true
   },
   "outputs": [],
   "source": [
    "result_kmeans3 = c2df.copy()\n",
    "result_kmeans3['cluster'] = np.array(fi_kmeans3)"
   ]
  },
  {
   "cell_type": "code",
   "execution_count": null,
   "metadata": {},
   "outputs": [],
   "source": [
    "for i in set(fi_kmeans3):\n",
    "    cluster = result_kmeans3[result_kmeans3['cluster'] == i]\n",
    "    plt.scatter(cluster.iloc[:,0], cluster.iloc[:,1])\n",
    "plt.scatter(x=np.array(c_kmeans3)[:,0], y=np.array(c_kmeans3)[:,1], marker='x', c='black')\n",
    "plt.xlabel('x')\n",
    "plt.ylabel('y')\n",
    "plt.show()"
   ]
  },
  {
   "cell_type": "code",
   "execution_count": null,
   "metadata": {},
   "outputs": [],
   "source": [
    "mean_cost(c2, c_kmeans3, fi_kmeans3)"
   ]
  },
  {
   "cell_type": "code",
   "execution_count": null,
   "metadata": {},
   "outputs": [],
   "source": [
    "total = len(kmpp_c)\n",
    "same = 0\n",
    "\n",
    "km_cost = []\n",
    "for i in range(total):\n",
    "    c_km, fi_km = kmeans(c2, 3, kmpp_c[i])\n",
    "    km_cost.append(mean_cost(c2, c_km, fi_km))\n",
    "    if (sum(kmpp_fi[i]) == sum(fi_km)):\n",
    "        same += 1\n",
    "\n",
    "same/total"
   ]
  },
  {
   "cell_type": "code",
   "execution_count": null,
   "metadata": {
    "collapsed": true
   },
   "outputs": [],
   "source": [
    "b = plt.hist(km_cost, cumulative=True, bins=100, normed=1)"
   ]
  },
  {
   "cell_type": "code",
   "execution_count": null,
   "metadata": {},
   "outputs": [],
   "source": [
    "x = b[1]\n",
    "y = np.concatenate((np.array([0]), b[0]))\n",
    "plt.plot(x, y)\n",
    "plt.xlabel('3-means cost')\n",
    "plt.ylabel('CDF')\n",
    "plt.show()"
   ]
  }
 ],
 "metadata": {
  "kernelspec": {
   "display_name": "Python 3",
   "language": "python",
   "name": "python3"
  },
  "language_info": {
   "codemirror_mode": {
    "name": "ipython",
    "version": 3
   },
   "file_extension": ".py",
   "mimetype": "text/x-python",
   "name": "python",
   "nbconvert_exporter": "python",
   "pygments_lexer": "ipython3",
   "version": "3.6.3"
  }
 },
 "nbformat": 4,
 "nbformat_minor": 2
}
