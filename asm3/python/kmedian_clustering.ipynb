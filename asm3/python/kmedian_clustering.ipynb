{
 "cells": [
  {
   "cell_type": "code",
   "execution_count": null,
   "metadata": {
    "collapsed": true
   },
   "outputs": [],
   "source": [
    "import pandas as pd\n",
    "import numpy as np\n",
    "from matplotlib import pyplot as plt\n",
    "\n",
    "import random"
   ]
  },
  {
   "cell_type": "code",
   "execution_count": null,
   "metadata": {},
   "outputs": [],
   "source": [
    "c3df = pd.read_csv('C3.txt', sep='\\t', header=None, index_col=0)\n",
    "c3df.head()"
   ]
  },
  {
   "cell_type": "code",
   "execution_count": null,
   "metadata": {},
   "outputs": [],
   "source": [
    "c3 = c3df.as_matrix()\n",
    "c3"
   ]
  },
  {
   "cell_type": "code",
   "execution_count": null,
   "metadata": {
    "collapsed": true
   },
   "outputs": [],
   "source": [
    "def dist(x, y):\n",
    "    return np.linalg.norm(x - y)"
   ]
  },
  {
   "cell_type": "code",
   "execution_count": null,
   "metadata": {
    "collapsed": true
   },
   "outputs": [],
   "source": [
    "def find_center(c, p):\n",
    "    minDist = np.inf\n",
    "    minIdx = -1\n",
    "    for i in range(len(c)):\n",
    "        currDist = dist(c[i], p)\n",
    "        if (currDist < minDist):\n",
    "            minDist = currDist\n",
    "            minIdx = i\n",
    "    return minIdx"
   ]
  },
  {
   "cell_type": "code",
   "execution_count": null,
   "metadata": {
    "collapsed": true
   },
   "outputs": [],
   "source": [
    "def kmedian(x, k, c=[]):\n",
    "    n = x.shape[0]\n",
    "    \n",
    "    if (len(c) == 0):\n",
    "        idx = random.sample(range(0,n), k)\n",
    "        c = x[idx]\n",
    "    fi = [-1] * n\n",
    "    \n",
    "    while True:\n",
    "        for i in range(n):\n",
    "            fi[i] = find_center(c, x[i])\n",
    "        newc = []\n",
    "        for j in range(k):\n",
    "            idxs = [idx for idx in range(n) if fi[idx] == j]\n",
    "            newc.append(np.median(x[idxs], axis=0))\n",
    "        if (np.array_equal(np.array(newc), np.array(c))):\n",
    "            break\n",
    "        else:\n",
    "            c = newc\n",
    "    \n",
    "    return c, fi"
   ]
  },
  {
   "cell_type": "code",
   "execution_count": null,
   "metadata": {
    "collapsed": true
   },
   "outputs": [],
   "source": [
    "def median_cost(x, c, fi):\n",
    "    n = x.shape[0]\n",
    "    sumDist = 0\n",
    "    for i in range(n):\n",
    "        sumDist += dist(x[i], c[fi[i]])\n",
    "    return sumDist / n"
   ]
  },
  {
   "cell_type": "code",
   "execution_count": null,
   "metadata": {
    "collapsed": true
   },
   "outputs": [],
   "source": [
    "c, fi = kmedian(c3, 4)"
   ]
  },
  {
   "cell_type": "code",
   "execution_count": null,
   "metadata": {
    "collapsed": true
   },
   "outputs": [],
   "source": [
    "cost = median_cost(c3, c, fi)"
   ]
  },
  {
   "cell_type": "code",
   "execution_count": null,
   "metadata": {},
   "outputs": [],
   "source": [
    "bestC = c\n",
    "bestFi = fi\n",
    "bestCost = cost\n",
    "for i in range(100):\n",
    "    currC, currFi = kmedian(c3, 4)\n",
    "    currCost = median_cost(c3, currC, currFi)\n",
    "    if (currCost < bestCost):\n",
    "        print('haha')\n",
    "        bestC = currC\n",
    "        bestFi = currFi\n",
    "        bestCost = currCost"
   ]
  },
  {
   "cell_type": "code",
   "execution_count": null,
   "metadata": {},
   "outputs": [],
   "source": [
    "bestCost"
   ]
  },
  {
   "cell_type": "code",
   "execution_count": null,
   "metadata": {},
   "outputs": [],
   "source": [
    "for point in bestC:\n",
    "    num = ', '.join('{0:.7f}'.format(coord) for coord in point)\n",
    "    print('$$({})$$'.format(num))"
   ]
  },
  {
   "cell_type": "code",
   "execution_count": null,
   "metadata": {
    "collapsed": true
   },
   "outputs": [],
   "source": [
    "df = pd.DataFrame(bestC)\n",
    "df.index = df.index+1\n",
    "df.to_csv('kmedian.txt', header=False, sep='\\t')"
   ]
  },
  {
   "cell_type": "code",
   "execution_count": null,
   "metadata": {
    "collapsed": true
   },
   "outputs": [],
   "source": [
    "c2, fi2 = kmedian(c3, 5)"
   ]
  },
  {
   "cell_type": "code",
   "execution_count": null,
   "metadata": {
    "collapsed": true
   },
   "outputs": [],
   "source": [
    "cost2 = median_cost(c3, c2, fi2)\n",
    "cost2"
   ]
  },
  {
   "cell_type": "code",
   "execution_count": null,
   "metadata": {
    "collapsed": true
   },
   "outputs": [],
   "source": [
    "bestC2 = c2\n",
    "bestFi2 = fi2\n",
    "bestCost2 = cost2\n",
    "for i in range(100):\n",
    "    currC2, currFi2 = kmedian(c3, 5)\n",
    "    currCost2 = median_cost(c3, currC2, currFi2)\n",
    "    if (currCost2 < bestCost2):\n",
    "        print('haha')\n",
    "        bestC2 = currC2\n",
    "        bestFi2 = currFi2\n",
    "        bestCost2 = currCost2"
   ]
  },
  {
   "cell_type": "code",
   "execution_count": null,
   "metadata": {
    "collapsed": true
   },
   "outputs": [],
   "source": [
    "bestCost2"
   ]
  },
  {
   "cell_type": "code",
   "execution_count": null,
   "metadata": {
    "collapsed": true
   },
   "outputs": [],
   "source": [
    "for point in bestC2:\n",
    "    num = ', '.join('{0:.7f}'.format(coord) for coord in point)\n",
    "    print('$$({})$$'.format(num))"
   ]
  }
 ],
 "metadata": {
  "kernelspec": {
   "display_name": "Python 3",
   "language": "python",
   "name": "python3"
  },
  "language_info": {
   "codemirror_mode": {
    "name": "ipython",
    "version": 3
   },
   "file_extension": ".py",
   "mimetype": "text/x-python",
   "name": "python",
   "nbconvert_exporter": "python",
   "pygments_lexer": "ipython3",
   "version": "3.6.3"
  }
 },
 "nbformat": 4,
 "nbformat_minor": 2
}
