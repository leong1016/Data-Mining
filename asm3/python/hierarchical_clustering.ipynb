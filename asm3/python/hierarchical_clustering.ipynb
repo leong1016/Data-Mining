{
 "cells": [
  {
   "cell_type": "code",
   "execution_count": null,
   "metadata": {
    "collapsed": true
   },
   "outputs": [],
   "source": [
    "import pandas as pd\n",
    "import numpy as np\n",
    "from matplotlib import pyplot as plt\n",
    "\n",
    "import time"
   ]
  },
  {
   "cell_type": "code",
   "execution_count": null,
   "metadata": {
    "collapsed": true
   },
   "outputs": [],
   "source": [
    "c1df = pd.read_csv('C1.txt', sep='\\t', index_col=0, header=None)\n",
    "c1df.head()"
   ]
  },
  {
   "cell_type": "code",
   "execution_count": null,
   "metadata": {
    "collapsed": true
   },
   "outputs": [],
   "source": [
    "def euclidean_dist(x, y):\n",
    "    return np.linalg.norm(x - y)"
   ]
  },
  {
   "cell_type": "code",
   "execution_count": null,
   "metadata": {
    "collapsed": true
   },
   "outputs": [],
   "source": [
    "def single_link(x, y):\n",
    "    minValue = np.inf\n",
    "    for i in x:\n",
    "        for j in y:\n",
    "            dist = euclidean_dist(i, j)\n",
    "            if (dist < minValue):\n",
    "                minValue = dist\n",
    "    return minValue"
   ]
  },
  {
   "cell_type": "code",
   "execution_count": null,
   "metadata": {
    "collapsed": true
   },
   "outputs": [],
   "source": [
    "def complete_link(x, y):\n",
    "    maxValue = -1\n",
    "    for i in x:\n",
    "        for j in y:\n",
    "            dist = euclidean_dist(i, j)\n",
    "            if (dist > maxValue):\n",
    "                maxValue = dist\n",
    "    return maxValue"
   ]
  },
  {
   "cell_type": "code",
   "execution_count": null,
   "metadata": {
    "collapsed": true
   },
   "outputs": [],
   "source": [
    "def mean_link(x, y):\n",
    "    x_mean = np.array(x).mean(axis=0)\n",
    "    y_mean = np.array(y).mean(axis=0)\n",
    "    return euclidean_dist(x_mean, y_mean)"
   ]
  },
  {
   "cell_type": "code",
   "execution_count": null,
   "metadata": {
    "collapsed": true
   },
   "outputs": [],
   "source": [
    "clusters = []\n",
    "for i in range(c1df.shape[0]):\n",
    "    cluster = []\n",
    "    cluster.append(np.array(c1df.iloc[i]))\n",
    "    clusters.append(cluster)"
   ]
  },
  {
   "cell_type": "code",
   "execution_count": null,
   "metadata": {
    "collapsed": true
   },
   "outputs": [],
   "source": [
    "start = time.time()\n",
    "while len(clusters) > 4:\n",
    "    k = len(clusters)\n",
    "    minDist = np.inf\n",
    "    minI = -1\n",
    "    minJ = -1\n",
    "    for i in range(k):\n",
    "        for j in range(i+1,k):\n",
    "            dist = mean_link(clusters[i], clusters[j])\n",
    "            if (dist < minDist):\n",
    "                minDist = dist\n",
    "                minI = i\n",
    "                minJ = j\n",
    "    for p in clusters[minJ]:\n",
    "        clusters[minI].append(p)\n",
    "    del clusters[minJ]\n",
    "print(time.time()-start)"
   ]
  },
  {
   "cell_type": "code",
   "execution_count": null,
   "metadata": {
    "collapsed": true
   },
   "outputs": [],
   "source": [
    "for cluster in clusters:\n",
    "    points = np.array(cluster)\n",
    "    plt.scatter(points[:,0], points[:,1])\n",
    "plt.xlabel('x')\n",
    "plt.ylabel('y')\n",
    "plt.show()"
   ]
  },
  {
   "cell_type": "code",
   "execution_count": null,
   "metadata": {
    "collapsed": true
   },
   "outputs": [],
   "source": [
    "for cluster in clusters:\n",
    "    newcluster = set()\n",
    "    for point in cluster:\n",
    "        newcluster.add(tuple(point))\n",
    "    print(newcluster)"
   ]
  }
 ],
 "metadata": {
  "kernelspec": {
   "display_name": "Python 3",
   "language": "python",
   "name": "python3"
  },
  "language_info": {
   "codemirror_mode": {
    "name": "ipython",
    "version": 3
   },
   "file_extension": ".py",
   "mimetype": "text/x-python",
   "name": "python",
   "nbconvert_exporter": "python",
   "pygments_lexer": "ipython3",
   "version": "3.6.3"
  }
 },
 "nbformat": 4,
 "nbformat_minor": 2
}
