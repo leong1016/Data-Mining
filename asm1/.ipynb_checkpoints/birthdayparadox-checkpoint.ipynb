{
 "cells": [
  {
   "cell_type": "code",
   "execution_count": 14,
   "metadata": {
    "collapsed": true
   },
   "outputs": [],
   "source": [
    "import numpy as np\n",
    "from random import randint\n",
    "import time\n",
    "from matplotlib import pyplot as plt\n",
    "%matplotlib inline"
   ]
  },
  {
   "cell_type": "code",
   "execution_count": 15,
   "metadata": {
    "collapsed": true
   },
   "outputs": [],
   "source": [
    "def collisionSimulator(n):\n",
    "    lst = [0] * (n)\n",
    "    k = 0\n",
    "    while True:\n",
    "        k += 1\n",
    "        x = randint(0, n-1)\n",
    "        if lst[x] == 0:\n",
    "            lst[x] = 1\n",
    "        else:\n",
    "            return k"
   ]
  },
  {
   "cell_type": "code",
   "execution_count": 16,
   "metadata": {
    "collapsed": true
   },
   "outputs": [],
   "source": [
    "def collisionSimulator2(n):\n",
    "    arr = np.zeros(n, dtype=np.int)\n",
    "    k = 0\n",
    "    while True:\n",
    "        k += 1\n",
    "        x = randint(0, n-1)\n",
    "        if arr[x] == 0:\n",
    "            arr[x] = 1\n",
    "        else:\n",
    "            return k"
   ]
  },
  {
   "cell_type": "code",
   "execution_count": 30,
   "metadata": {
    "collapsed": true
   },
   "outputs": [],
   "source": [
    "def collisionSimulator3(n):\n",
    "    s = set()\n",
    "    k = 0\n",
    "    while True:\n",
    "        k += 1\n",
    "        x = randint(0, n-1)\n",
    "        if x not in s:\n",
    "            s.add(x)\n",
    "        else:\n",
    "            return k"
   ]
  },
  {
   "cell_type": "code",
   "execution_count": 18,
   "metadata": {
    "collapsed": true
   },
   "outputs": [],
   "source": [
    "def collisionTrial(n, m):\n",
    "    result = []\n",
    "    for i in range(m):\n",
    "        result.append(collisionSimulator(n))\n",
    "    return result"
   ]
  },
  {
   "cell_type": "code",
   "execution_count": 19,
   "metadata": {
    "collapsed": true
   },
   "outputs": [],
   "source": [
    "def collisionTrial2(n, m):\n",
    "    result = np.zeros(m, dtype=np.int)\n",
    "    for i in range(m):\n",
    "        result[i] = collisionSimulator2(n)\n",
    "    return result"
   ]
  },
  {
   "cell_type": "code",
   "execution_count": 45,
   "metadata": {},
   "outputs": [],
   "source": [
    "def collisionTrial3(n, m):\n",
    "    result = np.zeros(m, dtype=np.int)\n",
    "    for i in range(m):\n",
    "        result[i] = (collisionSimulator3(n))\n",
    "    return result"
   ]
  },
  {
   "cell_type": "code",
   "execution_count": 46,
   "metadata": {
    "collapsed": true
   },
   "outputs": [],
   "source": [
    "def collisionPlot(m):\n",
    "    timer = np.zeros(10)\n",
    "    for i in range(1, 11):\n",
    "        start = time.time()\n",
    "        collisionTrial3(100000*i, m)\n",
    "        end = time.time()\n",
    "        timer[i-1] = end-start\n",
    "    return timer"
   ]
  },
  {
   "cell_type": "code",
   "execution_count": 47,
   "metadata": {
    "collapsed": true
   },
   "outputs": [],
   "source": [
    "def timeTest():\n",
    "    start = time.time()\n",
    "    collisionTrial3(4000, 300)\n",
    "    end = time.time()\n",
    "    print(end-start)"
   ]
  },
  {
   "cell_type": "code",
   "execution_count": 48,
   "metadata": {},
   "outputs": [
    {
     "name": "stdout",
     "output_type": "stream",
     "text": [
      "0.03965425491333008\n"
     ]
    }
   ],
   "source": [
    "timeTest()"
   ]
  },
  {
   "cell_type": "code",
   "execution_count": 49,
   "metadata": {},
   "outputs": [
    {
     "data": {
      "text/plain": [
       "array([ 0.20454502,  0.23955989,  0.27621412,  0.32811117,  0.3667109 ,\n",
       "        0.4221859 ,  0.45487118,  0.44415379,  0.49411416,  0.53793097])"
      ]
     },
     "execution_count": 49,
     "metadata": {},
     "output_type": "execute_result"
    }
   ],
   "source": [
    "bpm300 = collisionPlot(300)\n",
    "bpm300"
   ]
  },
  {
   "cell_type": "code",
   "execution_count": 50,
   "metadata": {},
   "outputs": [
    {
     "data": {
      "text/plain": [
       "array([ 1.04173708,  1.54584002,  2.01951122,  2.69354773,  2.65605593,\n",
       "        2.83891392,  3.22719622,  3.27653885,  3.3257091 ,  3.56377578])"
      ]
     },
     "execution_count": 50,
     "metadata": {},
     "output_type": "execute_result"
    }
   ],
   "source": [
    "bpm2000 = collisionPlot(2000)\n",
    "bpm2000"
   ]
  },
  {
   "cell_type": "code",
   "execution_count": 51,
   "metadata": {},
   "outputs": [
    {
     "data": {
      "text/plain": [
       "array([  5.601969  ,   8.24811482,  10.50247097,  11.39511895,\n",
       "        12.64039111,  14.68659282,  15.41367507,  16.15279913,\n",
       "        16.78021502,  17.57474518])"
      ]
     },
     "execution_count": 51,
     "metadata": {},
     "output_type": "execute_result"
    }
   ],
   "source": [
    "bpm10000 = collisionPlot(10000)\n",
    "bpm10000"
   ]
  },
  {
   "cell_type": "code",
   "execution_count": 52,
   "metadata": {},
   "outputs": [
    {
     "data": {
      "text/plain": [
       "10"
      ]
     },
     "execution_count": 52,
     "metadata": {},
     "output_type": "execute_result"
    }
   ],
   "source": [
    "x = np.linspace(100000,10000000, num=10)\n",
    "x.size"
   ]
  },
  {
   "cell_type": "code",
   "execution_count": 53,
   "metadata": {},
   "outputs": [
    {
     "data": {
      "text/plain": [
       "<matplotlib.collections.PathCollection at 0x10a364940>"
      ]
     },
     "execution_count": 53,
     "metadata": {},
     "output_type": "execute_result"
    },
    {
     "data": {
      "image/png": "[encoded data removed]",
      "text/plain": [
       "<matplotlib.figure.Figure at 0x10a2da710>"
      ]
     },
     "metadata": {},
     "output_type": "display_data"
    }
   ],
   "source": [
    "plt.scatter(x, bpm300)"
   ]
  },
  {
   "cell_type": "code",
   "execution_count": 54,
   "metadata": {},
   "outputs": [
    {
     "data": {
      "text/plain": [
       "<matplotlib.collections.PathCollection at 0x10b5c5198>"
      ]
     },
     "execution_count": 54,
     "metadata": {},
     "output_type": "execute_result"
    },
    {
     "data": {
      "image/png": "[encoded data removed]",
      "text/plain": [
       "<matplotlib.figure.Figure at 0x10b5be278>"
      ]
     },
     "metadata": {},
     "output_type": "display_data"
    }
   ],
   "source": [
    "plt.scatter(x, bpm2000)"
   ]
  },
  {
   "cell_type": "code",
   "execution_count": 55,
   "metadata": {},
   "outputs": [
    {
     "data": {
      "text/plain": [
       "<matplotlib.collections.PathCollection at 0x10b717be0>"
      ]
     },
     "execution_count": 55,
     "metadata": {},
     "output_type": "execute_result"
    },
    {
     "data": {
      "image/png": "[encoded data removed]",
      "text/plain": [
       "<matplotlib.figure.Figure at 0x10a2fa048>"
      ]
     },
     "metadata": {},
     "output_type": "display_data"
    }
   ],
   "source": [
    "plt.scatter(x, bpm10000)"
   ]
  },
  {
   "cell_type": "code",
   "execution_count": null,
   "metadata": {
    "collapsed": true
   },
   "outputs": [],
   "source": []
  }
 ],
 "metadata": {
  "kernelspec": {
   "display_name": "Python 3",
   "language": "python",
   "name": "python3"
  },
  "language_info": {
   "codemirror_mode": {
    "name": "ipython",
    "version": 3
   },
   "file_extension": ".py",
   "mimetype": "text/x-python",
   "name": "python",
   "nbconvert_exporter": "python",
   "pygments_lexer": "ipython3",
   "version": "3.6.3"
  }
 },
 "nbformat": 4,
 "nbformat_minor": 2
}
