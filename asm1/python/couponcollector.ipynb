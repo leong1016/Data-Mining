{
 "cells": [
  {
   "cell_type": "code",
   "execution_count": 1,
   "metadata": {
    "collapsed": true
   },
   "outputs": [],
   "source": [
    "import numpy as np\n",
    "from random import randint\n",
    "import time\n",
    "from matplotlib import pyplot as plt\n",
    "%matplotlib inline"
   ]
  },
  {
   "cell_type": "code",
   "execution_count": 2,
   "metadata": {
    "collapsed": true
   },
   "outputs": [],
   "source": [
    "def couponSimulator(n):\n",
    "    lst = [1] * (n)\n",
    "    length = n\n",
    "    k = 0\n",
    "    while length:\n",
    "        k += 1\n",
    "        x = randint(0, n-1)\n",
    "        if lst[x] == 0:\n",
    "            continue\n",
    "        else:\n",
    "            lst[x] = 0\n",
    "            length -= 1\n",
    "    return k"
   ]
  },
  {
   "cell_type": "code",
   "execution_count": 3,
   "metadata": {
    "collapsed": true
   },
   "outputs": [],
   "source": [
    "def couponSimulator2(n):\n",
    "    arr = np.ones(n, dtype=np.int)\n",
    "    k = 0\n",
    "    length = n\n",
    "    while length:\n",
    "        k += 1\n",
    "        x = randint(0, n-1)\n",
    "        if arr[x] == 0:\n",
    "            continue\n",
    "        else:\n",
    "            arr[x] = 0\n",
    "            length -= 1\n",
    "    return k"
   ]
  },
  {
   "cell_type": "code",
   "execution_count": 22,
   "metadata": {
    "collapsed": true
   },
   "outputs": [],
   "source": [
    "def couponSimulator3(n):\n",
    "    s = set()\n",
    "    k = 0\n",
    "    length = n\n",
    "    while length:\n",
    "        k += 1\n",
    "        x = randint(0, n-1)\n",
    "        if x in s:\n",
    "            continue\n",
    "        else:\n",
    "            s.add(x)\n",
    "            length -= 1\n",
    "    return k"
   ]
  },
  {
   "cell_type": "code",
   "execution_count": 25,
   "metadata": {
    "collapsed": true
   },
   "outputs": [],
   "source": [
    "def couponTrial(n, m):\n",
    "    result = []\n",
    "    for i in range(m):\n",
    "        result.append(couponSimulator(n))\n",
    "    return result"
   ]
  },
  {
   "cell_type": "code",
   "execution_count": 26,
   "metadata": {
    "collapsed": true
   },
   "outputs": [],
   "source": [
    "def couponTrial2(n, m):\n",
    "    result = np.zeros(m, dtype=np.int)\n",
    "    for i in range(m):\n",
    "        result[i] = couponSimulator2(n)\n",
    "    return result"
   ]
  },
  {
   "cell_type": "code",
   "execution_count": 27,
   "metadata": {
    "collapsed": true
   },
   "outputs": [],
   "source": [
    "def couponTrial3(n, m):\n",
    "    result = np.zeros(m, dtype=np.int)\n",
    "    for i in range(m):\n",
    "        result[i] = couponSimulator3(n)\n",
    "    return result"
   ]
  },
  {
   "cell_type": "code",
   "execution_count": 36,
   "metadata": {
    "collapsed": true
   },
   "outputs": [],
   "source": [
    "def timeTest():\n",
    "    start = time.time()\n",
    "    couponTrial3(250, 300)\n",
    "    end = time.time()\n",
    "    print(end-start)"
   ]
  },
  {
   "cell_type": "code",
   "execution_count": 42,
   "metadata": {},
   "outputs": [
    {
     "name": "stdout",
     "output_type": "stream",
     "text": [
      "0.5366091728210449\n"
     ]
    }
   ],
   "source": [
    "timeTest()"
   ]
  },
  {
   "cell_type": "code",
   "execution_count": 38,
   "metadata": {
    "collapsed": true
   },
   "outputs": [],
   "source": [
    "def couponPlot(m):\n",
    "    timer = np.zeros(10)\n",
    "    for i in range(1, 11):\n",
    "        start = time.time()\n",
    "        couponTrial3(2000*i, m)\n",
    "        end = time.time()\n",
    "        timer[i-1] = end-start\n",
    "        print(timer[i-1])\n",
    "    return timer"
   ]
  },
  {
   "cell_type": "code",
   "execution_count": 43,
   "metadata": {},
   "outputs": [
    {
     "name": "stdout",
     "output_type": "stream",
     "text": [
      "5.82460188866\n",
      "13.3391299248\n",
      "21.4220099449\n",
      "27.3079781532\n",
      "36.9861941338\n",
      "43.5518891811\n",
      "50.2591199875\n",
      "57.8138847351\n",
      "72.3514780998\n",
      "81.0638530254\n"
     ]
    },
    {
     "data": {
      "text/plain": [
       "array([  5.82460189,  13.33912992,  21.42200994,  27.30797815,\n",
       "        36.98619413,  43.55188918,  50.25911999,  57.81388474,\n",
       "        72.3514781 ,  81.06385303])"
      ]
     },
     "execution_count": 43,
     "metadata": {},
     "output_type": "execute_result"
    }
   ],
   "source": [
    "ccm300 = couponPlot(300)\n",
    "ccm300"
   ]
  },
  {
   "cell_type": "code",
   "execution_count": 44,
   "metadata": {},
   "outputs": [
    {
     "name": "stdout",
     "output_type": "stream",
     "text": [
      "19.1154122353\n",
      "41.4721348286\n",
      "68.2325119972\n",
      "91.056428194\n",
      "3257.7067709\n",
      "156.438385963\n",
      "184.329479933\n",
      "210.46715498\n",
      "259.192805052\n",
      "287.910470963\n"
     ]
    },
    {
     "data": {
      "text/plain": [
       "array([   19.11541224,    41.47213483,    68.232512  ,    91.05642819,\n",
       "        3257.7067709 ,   156.43838596,   184.32947993,   210.46715498,\n",
       "         259.19280505,   287.91047096])"
      ]
     },
     "execution_count": 44,
     "metadata": {},
     "output_type": "execute_result"
    }
   ],
   "source": [
    "ccm1000 = couponPlot(1000)\n",
    "ccm1000"
   ]
  },
  {
   "cell_type": "code",
   "execution_count": 16,
   "metadata": {
    "collapsed": true
   },
   "outputs": [],
   "source": [
    "x = np.linspace(2000,20000, num=10)\n",
    "x.size()"
   ]
  }
 ],
 "metadata": {
  "kernelspec": {
   "display_name": "Python 3",
   "language": "python",
   "name": "python3"
  },
  "language_info": {
   "codemirror_mode": {
    "name": "ipython",
    "version": 3
   },
   "file_extension": ".py",
   "mimetype": "text/x-python",
   "name": "python",
   "nbconvert_exporter": "python",
   "pygments_lexer": "ipython3",
   "version": "3.6.3"
  }
 },
 "nbformat": 4,
 "nbformat_minor": 2
}
