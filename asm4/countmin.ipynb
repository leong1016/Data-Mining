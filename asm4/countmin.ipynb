{
 "cells": [
  {
   "cell_type": "code",
   "execution_count": 1,
   "metadata": {
    "collapsed": true
   },
   "outputs": [],
   "source": [
    "import random\n",
    "import string\n",
    "import hashlib"
   ]
  },
  {
   "cell_type": "code",
   "execution_count": 2,
   "metadata": {
    "collapsed": true
   },
   "outputs": [],
   "source": [
    "class CountMin:\n",
    "    \n",
    "    def __init__(self, k, t):\n",
    "        self.k = k\n",
    "        self.t = t\n",
    "        self.salt = self.randomsalt(t)\n",
    "        \n",
    "    def randomsalt(self, t):\n",
    "        salt = []\n",
    "        for i in range(t):\n",
    "            salt.append(''.join(random.choices(string.ascii_letters, k=10)))\n",
    "        return salt\n",
    "    \n",
    "    def h(self, i, x):\n",
    "        hashstr = hashlib.sha1((x+self.salt[i]).encode('utf-8')).hexdigest()\n",
    "        hashint = int(hashstr, 16) % self.k\n",
    "        return hashint\n",
    "    \n",
    "    def count(self, s):\n",
    "        s.seek(0)\n",
    "        c = []\n",
    "        for i in range(t):\n",
    "            c.append([0] * k)\n",
    "        f1 = 0\n",
    "        \n",
    "        while True:\n",
    "            a = s.read(1)\n",
    "            if not a:\n",
    "                break\n",
    "            f1 += 1\n",
    "            for i in range(t):\n",
    "                j = self.h(i, a)\n",
    "                c[i][j] = c[i][j] + 1\n",
    "        self.c = c\n",
    "        self.f1 = f1\n",
    "        return c, f1\n",
    "    \n",
    "    def query(self, char):\n",
    "        minCount = float('inf')\n",
    "        for i in range(self.t):\n",
    "            j = self.h(i, char)\n",
    "            if self.c[i][j] < minCount:\n",
    "                minCount = self.c[i][j]\n",
    "        return minCount"
   ]
  },
  {
   "cell_type": "code",
   "execution_count": 3,
   "metadata": {
    "collapsed": true
   },
   "outputs": [],
   "source": [
    "k = 10\n",
    "t = 5"
   ]
  },
  {
   "cell_type": "code",
   "execution_count": 4,
   "metadata": {
    "collapsed": true
   },
   "outputs": [],
   "source": [
    "countMin = CountMin(k, t)"
   ]
  },
  {
   "cell_type": "code",
   "execution_count": 5,
   "metadata": {
    "collapsed": true
   },
   "outputs": [],
   "source": [
    "s1 = open('S1.txt', 'r')"
   ]
  },
  {
   "cell_type": "code",
   "execution_count": 6,
   "metadata": {
    "collapsed": true
   },
   "outputs": [],
   "source": [
    "c1, f1 = countMin.count(s1)"
   ]
  },
  {
   "cell_type": "code",
   "execution_count": 7,
   "metadata": {},
   "outputs": [
    {
     "data": {
      "text/plain": [
       "[[33574, 33590, 33749, 51169, 270001, 16871, 0, 244219, 266588, 50239],\n",
       " [33825, 266824, 16588, 33690, 193581, 16732, 287477, 67107, 16737, 67439],\n",
       " [33825, 50446, 300953, 84059, 33524, 176877, 253283, 33605, 16588, 16840],\n",
       " [50352, 469588, 34029, 193683, 84421, 16892, 33527, 33572, 50393, 33543],\n",
       " [67578, 16925, 33526, 203000, 50199, 50376, 16790, 50761, 227171, 283674]]"
      ]
     },
     "execution_count": 7,
     "metadata": {},
     "output_type": "execute_result"
    }
   ],
   "source": [
    "c1"
   ]
  },
  {
   "cell_type": "code",
   "execution_count": 8,
   "metadata": {},
   "outputs": [
    {
     "data": {
      "text/plain": [
       "1000000"
      ]
     },
     "execution_count": 8,
     "metadata": {},
     "output_type": "execute_result"
    }
   ],
   "source": [
    "f1"
   ]
  },
  {
   "cell_type": "code",
   "execution_count": 9,
   "metadata": {
    "scrolled": true
   },
   "outputs": [
    {
     "name": "stdout",
     "output_type": "stream",
     "text": [
      "66588<fa<266588\n"
     ]
    }
   ],
   "source": [
    "print('{0:.0f}<fa<{1:d}'.format(countMin.query('a') - f1 * 2 / k, countMin.query('a')))"
   ]
  },
  {
   "cell_type": "code",
   "execution_count": 10,
   "metadata": {},
   "outputs": [
    {
     "name": "stdout",
     "output_type": "stream",
     "text": [
      "3000<fb<203000\n"
     ]
    }
   ],
   "source": [
    "print('{0:.0f}<fb<{1:d}'.format(countMin.query('b') - f1 * 2 / k, countMin.query('b')))"
   ]
  },
  {
   "cell_type": "code",
   "execution_count": 11,
   "metadata": {},
   "outputs": [
    {
     "name": "stdout",
     "output_type": "stream",
     "text": [
      "-23123<fc<176877\n"
     ]
    }
   ],
   "source": [
    "print('{0:.0f}<fc<{1:d}'.format(countMin.query('c') - f1 * 2 / k, countMin.query('c')))"
   ]
  },
  {
   "cell_type": "code",
   "execution_count": 12,
   "metadata": {
    "collapsed": true
   },
   "outputs": [],
   "source": [
    "s1.close()"
   ]
  },
  {
   "cell_type": "code",
   "execution_count": 13,
   "metadata": {
    "collapsed": true
   },
   "outputs": [],
   "source": [
    "s2 = open('S2.txt', 'r')\n",
    "c2, f2 = countMin.count(s2)"
   ]
  },
  {
   "cell_type": "code",
   "execution_count": 14,
   "metadata": {},
   "outputs": [
    {
     "data": {
      "text/plain": [
       "[[29679, 29529, 29697, 44278, 229155, 14611, 0, 283872, 294742, 44437],\n",
       " [29610, 294764, 14742, 29649, 239809, 14906, 243376, 58986, 14843, 59315],\n",
       " [29610, 44346, 324244, 73930, 29725, 224665, 214446, 29491, 14742, 14801],\n",
       " [43953, 464742, 29288, 239681, 74095, 14800, 29598, 29707, 44680, 29456],\n",
       " [59112, 14933, 29764, 170000, 44388, 44398, 14755, 44194, 269085, 309371]]"
      ]
     },
     "execution_count": 14,
     "metadata": {},
     "output_type": "execute_result"
    }
   ],
   "source": [
    "c2"
   ]
  },
  {
   "cell_type": "code",
   "execution_count": 15,
   "metadata": {},
   "outputs": [
    {
     "data": {
      "text/plain": [
       "1000000"
      ]
     },
     "execution_count": 15,
     "metadata": {},
     "output_type": "execute_result"
    }
   ],
   "source": [
    "f2"
   ]
  },
  {
   "cell_type": "code",
   "execution_count": 16,
   "metadata": {
    "scrolled": true
   },
   "outputs": [
    {
     "name": "stdout",
     "output_type": "stream",
     "text": [
      "94742<fa<294742\n"
     ]
    }
   ],
   "source": [
    "print('{0:.0f}<fa<{1:d}'.format(countMin.query('a') - f2 * 2 / k, countMin.query('a')))"
   ]
  },
  {
   "cell_type": "code",
   "execution_count": 17,
   "metadata": {
    "scrolled": true
   },
   "outputs": [
    {
     "name": "stdout",
     "output_type": "stream",
     "text": [
      "-30000<fb<170000\n"
     ]
    }
   ],
   "source": [
    "print('{0:.0f}<fb<{1:d}'.format(countMin.query('b') - f2 * 2 / k, countMin.query('b')))"
   ]
  },
  {
   "cell_type": "code",
   "execution_count": 18,
   "metadata": {
    "scrolled": true
   },
   "outputs": [
    {
     "name": "stdout",
     "output_type": "stream",
     "text": [
      "24665<fc<224665\n"
     ]
    }
   ],
   "source": [
    "print('{0:.0f}<fc<{1:d}'.format(countMin.query('c') - f2 * 2 / k, countMin.query('c')))"
   ]
  },
  {
   "cell_type": "code",
   "execution_count": 19,
   "metadata": {
    "collapsed": true
   },
   "outputs": [],
   "source": [
    "s2.close()"
   ]
  },
  {
   "cell_type": "code",
   "execution_count": null,
   "metadata": {
    "collapsed": true
   },
   "outputs": [],
   "source": []
  }
 ],
 "metadata": {
  "kernelspec": {
   "display_name": "Python 3",
   "language": "python",
   "name": "python3"
  },
  "language_info": {
   "codemirror_mode": {
    "name": "ipython",
    "version": 3
   },
   "file_extension": ".py",
   "mimetype": "text/x-python",
   "name": "python",
   "nbconvert_exporter": "python",
   "pygments_lexer": "ipython3",
   "version": "3.6.3"
  }
 },
 "nbformat": 4,
 "nbformat_minor": 2
}
